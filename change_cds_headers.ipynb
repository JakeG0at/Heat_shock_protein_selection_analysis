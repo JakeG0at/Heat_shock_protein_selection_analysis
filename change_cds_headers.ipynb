{
 "cells": [
  {
   "cell_type": "code",
   "execution_count": 18,
   "metadata": {},
   "outputs": [],
   "source": [
    "import os\n",
    "\n",
    "# Change the directory to the one with the fasta files\n",
    "input_dir = \"/home/jake/Downloads/HSP_Project/CDS\"\n",
    "output_dir = \"/home/jake/Downloads/HSP_Project/CDS/modified_headers\"\n",
    "\n",
    "# Make a new directory to save the modified files if it doesn't already exist\n",
    "if not os.path.exists(output_dir):\n",
    "    os.makedirs(output_dir)\n",
    "\n",
    "# Loop over all files in the directory\n",
    "for file in os.listdir(input_dir):\n",
    "    # Skip over files that aren't fasta files\n",
    "    if not file.endswith(\".fa\"):\n",
    "        continue\n",
    "    # Open the file for reading\n",
    "    with open(os.path.join(input_dir, file), \"r\") as in_file:\n",
    "        # Open a new file for writing\n",
    "        with open(os.path.join(output_dir, file), \"w\") as out_file:\n",
    "            # Loop over all lines in the file\n",
    "            for line in in_file:\n",
    "                # If the line starts with a >, change the header\n",
    "                if line.startswith(\">\"):\n",
    "                    fields = line.split(\" \")\n",
    "                    for field in fields:\n",
    "                        if field.startswith(\"gene:\"):\n",
    "                            out_file.write(\">\" + field.split(\":\")[1] + \"\\n\")\n",
    "                            break\n",
    "                else:\n",
    "                    out_file.write(line)\n",
    "\n",
    "\n"
   ]
  },
  {
   "cell_type": "code",
   "execution_count": 20,
   "metadata": {},
   "outputs": [
    {
     "name": "stdout",
     "output_type": "stream",
     "text": [
      ">ENSSPAG00000023062.1\n",
      "GGCTACTTTGACTACTGGGGCAAAGGAACACAAGTCACAGTAACTTCTGGTAAGTAA\n",
      ">ENSSPAG00000002715.1\n",
      "AACTATGAAGCTTATTTCGGCCGGGGAACTAAACTGACTGTTCTCGGTGAGTAA\n",
      ">ENSSPAG00000007513.1\n",
      "ACTGGTACATATAAGCTCATCTTTGGAAGTGGAACCAGATTAATTGTTGAATCCAGTAAG\n",
      "TAA\n",
      ">ENSSPAG00000007524.1\n",
      "AATGCTGCAAATAAGATGATCTTTGGAAGTGGAACCAGGTTAACTGTTGAAGCCAGTAAG\n",
      "TAG\n"
     ]
    }
   ],
   "source": [
    "#this script changes the headers of the aligned sequences to match the headers of the CDS sequences\n",
    "\n",
    "input_dir = '/home/jake/Downloads/HSP_Project/aligned_seq_matching_header_as_cds'\n",
    "\n",
    "output_dir = \"/home/jake/Downloads/HSP_Project/aligned_seq_matching_header_as_cds/modifed\"\n",
    "\n",
    "# Make a new directory to save the modified files if it doesn't already exist\n",
    "if not os.path.exists(output_dir):\n",
    "    os.makedirs(output_dir)\n",
    "\n",
    "# Loop over all files in the directory\n",
    "for file in os.listdir(input_dir):\n",
    "    # Skip over files that aren't fasta files\n",
    "    if not file.endswith(\".fa\"):\n",
    "        continue\n",
    "    # Open the file for reading\n",
    "    with open(os.path.join(input_dir, file), \"r\") as in_file:\n",
    "        # Open a new file for writing\n",
    "        with open(os.path.join(output_dir, file), \"w\") as out_file:\n",
    "            # Loop over all lines in the file\n",
    "            for line in in_file:\n",
    "                # If the line starts with a >, change the header\n",
    "                if line.startswith(\">\"):\n",
    "                    # Split the line on the _ character and take the last field (the gene name)\n",
    "                    gene_name = line.split(\"_\")[-1]\n",
    "                    # Write the new header to the output file\n",
    "                    out_file.write(\">\" + gene_name)\n",
    "                # If the line doesn't start with a >, write it to the output file\n",
    "                else:\n",
    "                    out_file.write(line)\n",
    "\n"
   ]
  }
 ],
 "metadata": {
  "kernelspec": {
   "display_name": "usr",
   "language": "python",
   "name": "python3"
  },
  "language_info": {
   "codemirror_mode": {
    "name": "ipython",
    "version": 3
   },
   "file_extension": ".py",
   "mimetype": "text/x-python",
   "name": "python",
   "nbconvert_exporter": "python",
   "pygments_lexer": "ipython3",
   "version": "3.10.10"
  },
  "orig_nbformat": 4
 },
 "nbformat": 4,
 "nbformat_minor": 2
}
