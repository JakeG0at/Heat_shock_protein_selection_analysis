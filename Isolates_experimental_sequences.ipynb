{
 "cells": [
  {
   "cell_type": "code",
   "execution_count": null,
   "metadata": {},
   "outputs": [],
   "source": [
    "#Then I will figure out a way to select those orthogroups and move them into a directory. Upload the directory to the cluster,\n",
    "#and then indivudally run raxml on each of the orthogroups."
   ]
  },
  {
   "cell_type": "code",
   "execution_count": 2,
   "metadata": {},
   "outputs": [],
   "source": [
    "import pandas as pd \n",
    "import numpy as np\n",
    "import os\n",
    "import sys\n",
    "import re\n",
    "import shutil"
   ]
  },
  {
   "cell_type": "code",
   "execution_count": 3,
   "metadata": {},
   "outputs": [],
   "source": [
    "#read in the hsp.tsv file\n",
    "path = '/home/jake/Downloads/Salmo_Project/'\n",
    "hsp = pd.read_csv(f\"{path}hsps.csv\", header = 0)\n",
    "not_hsps_sample = pd.read_csv(f\"{path}not_hsps.csv\", header = 0)"
   ]
  },
  {
   "cell_type": "code",
   "execution_count": 7,
   "metadata": {},
   "outputs": [],
   "source": [
    "\n",
    "# set the path to your directory of orthogroup sequences\n",
    "seq_dir = f\"{path}Orthogroup_Sequences/\"\n",
    "\n",
    "# set the path to the new directory where you want to copy the sequences\n",
    "new_dir = f\"{path}/heatshock_proteins\"\n",
    "\n",
    "# create the new directory if it doesn't already exist\n",
    "if not os.path.exists(new_dir):\n",
    "    os.mkdir(new_dir)\n",
    "\n",
    "# loop through the orthogroups in the dataframe\n",
    "for orthogroup in hsp['Orthogroup']:\n",
    "    # construct the path to the sequence file for this orthogroup\n",
    "    seq_file = os.path.join(seq_dir, orthogroup + '.fa')\n",
    "\n",
    "    # check if the sequence file exists\n",
    "    if os.path.exists(seq_file):\n",
    "        # if it exists, copy it to the new directory\n",
    "        shutil.copy(seq_file, new_dir)\n"
   ]
  },
  {
   "cell_type": "code",
   "execution_count": 8,
   "metadata": {},
   "outputs": [
    {
     "name": "stdout",
     "output_type": "stream",
     "text": [
      "120\n"
     ]
    }
   ],
   "source": [
    "print(len(os.listdir(f\"{path}/heatshock_proteins\")))"
   ]
  },
  {
   "cell_type": "code",
   "execution_count": 9,
   "metadata": {},
   "outputs": [],
   "source": [
    "# set the path to your directory of orthogroup sequences\n",
    "seq_dir = f\"{path}Orthogroup_Sequences/\"\n",
    "\n",
    "# set the path to the new directory where you want to copy the sequences\n",
    "new_dir = f\"{path}/not_heatshock_proteins_control_group\"\n",
    "\n",
    "# create the new directory if it doesn't already exist\n",
    "if not os.path.exists(new_dir):\n",
    "    os.mkdir(new_dir)\n",
    "\n",
    "# loop through the orthogroups in the dataframe\n",
    "for orthogroup in not_hsps_sample['Orthogroup']:\n",
    "    # construct the path to the sequence file for this orthogroup\n",
    "    seq_file = os.path.join(seq_dir, orthogroup + '.fa')\n",
    "\n",
    "    # check if the sequence file exists\n",
    "    if os.path.exists(seq_file):\n",
    "        # if it exists, copy it to the new directory\n",
    "        shutil.copy(seq_file, new_dir)"
   ]
  }
 ],
 "metadata": {
  "kernelspec": {
   "display_name": "usr",
   "language": "python",
   "name": "python3"
  },
  "language_info": {
   "codemirror_mode": {
    "name": "ipython",
    "version": 3
   },
   "file_extension": ".py",
   "mimetype": "text/x-python",
   "name": "python",
   "nbconvert_exporter": "python",
   "pygments_lexer": "ipython3",
   "version": "3.10.10"
  },
  "orig_nbformat": 4,
  "vscode": {
   "interpreter": {
    "hash": "767d51c1340bd893661ea55ea3124f6de3c7a262a8b4abca0554b478b1e2ff90"
   }
  }
 },
 "nbformat": 4,
 "nbformat_minor": 2
}
