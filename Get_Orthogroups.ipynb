{
 "cells": [
  {
   "attachments": {},
   "cell_type": "markdown",
   "metadata": {},
   "source": [
    "The goal of this script is to merge the description from the fasta headers with the orthogroups sequences by using 'Gene' key found in both"
   ]
  },
  {
   "cell_type": "code",
   "execution_count": 1,
   "metadata": {},
   "outputs": [],
   "source": [
    "import pandas as pd \n",
    "import numpy as np\n",
    "import os\n",
    "import sys\n",
    "import re"
   ]
  },
  {
   "cell_type": "code",
   "execution_count": 3,
   "metadata": {},
   "outputs": [],
   "source": [
    "path = '/home/jake/Downloads/Salmo_Project/'\n",
    "Orthogroups = f'{path}Orthogroups/'\n",
    "Orthogroups = pd.read_csv(f'{Orthogroups}Orthogroups.tsv', sep = '\\t', index_col=0)\n",
    "file = '/home/jake/Downloads/HSP_Project/headerz/headerz.txt'\n",
    "headers = pd.read_csv(file, sep='\\t', header=None, names=['header'])\n",
    "# extract gene up until the first space\n",
    "headers['gene'] = headers['header'].str.extract(r'gene:(.*?)\\s').fillna('')\n",
    "\n",
    "# extract description\n",
    "headers['description'] = headers['header'].str.extract(r'description:(.*)\\[').fillna('')\n",
    "#Drop the rows that have nothing in the description column\n",
    "headers = headers[headers['description'] != '']\n",
    "headers = headers[['gene', 'description']]\n",
    "headers_df = headers[['gene', 'description']].astype(str)"
   ]
  },
  {
   "attachments": {},
   "cell_type": "markdown",
   "metadata": {},
   "source": [
    "The code below produces a df('final_ortho_df') that contains all the orthogroups and their sequences per speceies with an added description column derived from the fasta headers."
   ]
  },
  {
   "cell_type": "code",
   "execution_count": 4,
   "metadata": {},
   "outputs": [
    {
     "name": "stdout",
     "output_type": "stream",
     "text": [
      "There are 27791 orthogroups in the Orthogroups.tsv file\n",
      "There are 3753907 genes in the headers file\n",
      "There are 23182 orthogroups in the filtered_df file\n"
     ]
    },
    {
     "name": "stderr",
     "output_type": "stream",
     "text": [
      "/tmp/ipykernel_25728/4112835504.py:27: FutureWarning: Indexing with multiple keys (implicitly converted to a tuple of keys) will be deprecated, use a list instead.\n",
      "  final_df = final_df.groupby('Orthogroup')['description', 'gene'].agg(lambda x: '/'.join(x)).reset_index()\n"
     ]
    }
   ],
   "source": [
    "print(f'There are {len(Orthogroups)} orthogroups in the Orthogroups.tsv file')\n",
    "print(f'There are {len(headers_df)} genes in the headers file')\n",
    "# Load the data into a DataFrame\n",
    "# Calculate the total number of columns\n",
    "total_cols = 84\n",
    "# Calculate the number of columns with missing values (null values) for each row\n",
    "null_cols = Orthogroups.isna().sum(axis=1)\n",
    "# Filter out rows that have more than 5% of the columns with missing values\n",
    "filtered_df = Orthogroups[null_cols / total_cols <= 0.05]\n",
    "print(f'There are {len(filtered_df)} orthogroups in the filtered_df file')\n",
    "#Reset the index for both dataframes\n",
    "filtered_df = filtered_df.reset_index()\n",
    "headers_df = headers_df.reset_index()\n",
    "#Display the first 5 rows of the filtered DataFrame\n",
    "#make a new df that has two columns, the Orthogroup column and genes column that merge all of the columns in filtered_df into one column\n",
    "new_df = pd.DataFrame(columns=['Orthogroup', 'gene'])\n",
    "new_df['Orthogroup'] = filtered_df['Orthogroup']\n",
    "new_df['gene'] = filtered_df.iloc[:,1:].apply(lambda x: ','.join(x.dropna().astype(str)), axis=1)\n",
    "#Pivot the new_df so each string in the genes column is a seperate row\n",
    "new_df = new_df.set_index('Orthogroup')['gene'].str.split(',', expand=True).stack().reset_index(level=1, drop=True).reset_index(name='gene')\n",
    "# merge the two dataframes on the gene column\n",
    "final_df = pd.merge(headers_df, new_df, on='gene', how='left')\n",
    "#Drop rows where Orthogroup is NaN\n",
    "#Drop the index column\n",
    "final_df = final_df.dropna(subset=['Orthogroup'])\n",
    "#Group by Orthogroup and concatenate the description , and gene columns seperated by a '/'\n",
    "final_df = final_df.groupby('Orthogroup')['description', 'gene'].agg(lambda x: '/'.join(x)).reset_index()\n",
    "#add the description column to the filtered_df based on orthogroup\n",
    "temp_df = pd.merge(filtered_df, final_df, on='Orthogroup', how='left')\n",
    "final_ortho_df = temp_df.drop(columns=['gene'])\n",
    "#drop the rows with where description column is NaN\n",
    "\n",
    "final_ortho_df = final_ortho_df.dropna(subset=['description'])\n"
   ]
  },
  {
   "cell_type": "code",
   "execution_count": 5,
   "metadata": {},
   "outputs": [
    {
     "name": "stderr",
     "output_type": "stream",
     "text": [
      "/tmp/ipykernel_25728/249907178.py:5: SettingWithCopyWarning: \n",
      "A value is trying to be set on a copy of a slice from a DataFrame.\n",
      "Try using .loc[row_indexer,col_indexer] = value instead\n",
      "\n",
      "See the caveats in the documentation: https://pandas.pydata.org/pandas-docs/stable/user_guide/indexing.html#returning-a-view-versus-a-copy\n",
      "  df['%conserved'] = df.iloc[:, 1:85].count(axis=1)\n"
     ]
    }
   ],
   "source": [
    "#THis cell gets the heat shock orhtogroups\n",
    "_ = final_ortho_df[final_ortho_df['description'].str.contains('heat|hsp|HSP|shps|HEAT|shock', case=False)]\n",
    "\n",
    "def count_non_na_columns(df):\n",
    "    df['%conserved'] = df.iloc[:, 1:85].count(axis=1)\n",
    "    return df\n",
    "_ = count_non_na_columns(_)\n",
    "\n",
    "hsps = _[['Orthogroup', 'description', '%conserved']]\n",
    "hsps.to_csv(f'{path}hsps.csv', sep=',', index=False)"
   ]
  },
  {
   "cell_type": "code",
   "execution_count": 6,
   "metadata": {},
   "outputs": [
    {
     "name": "stderr",
     "output_type": "stream",
     "text": [
      "/tmp/ipykernel_25728/1140220477.py:6: SettingWithCopyWarning: \n",
      "A value is trying to be set on a copy of a slice from a DataFrame.\n",
      "Try using .loc[row_indexer,col_indexer] = value instead\n",
      "\n",
      "See the caveats in the documentation: https://pandas.pydata.org/pandas-docs/stable/user_guide/indexing.html#returning-a-view-versus-a-copy\n",
      "  df['%conserved'] = df.iloc[:, 1:85].count(axis=1)\n"
     ]
    },
    {
     "data": {
      "text/html": [
       "<div>\n",
       "<style scoped>\n",
       "    .dataframe tbody tr th:only-of-type {\n",
       "        vertical-align: middle;\n",
       "    }\n",
       "\n",
       "    .dataframe tbody tr th {\n",
       "        vertical-align: top;\n",
       "    }\n",
       "\n",
       "    .dataframe thead th {\n",
       "        text-align: right;\n",
       "    }\n",
       "</style>\n",
       "<table border=\"1\" class=\"dataframe\">\n",
       "  <thead>\n",
       "    <tr style=\"text-align: right;\">\n",
       "      <th></th>\n",
       "      <th>Orthogroup</th>\n",
       "      <th>description</th>\n",
       "      <th>%conserved</th>\n",
       "    </tr>\n",
       "  </thead>\n",
       "  <tbody>\n",
       "    <tr>\n",
       "      <th>2444</th>\n",
       "      <td>OG0002545</td>\n",
       "      <td>interleukin 6 signal transducer /interleukin 6...</td>\n",
       "      <td>8</td>\n",
       "    </tr>\n",
       "    <tr>\n",
       "      <th>12019</th>\n",
       "      <td>OG0012178</td>\n",
       "      <td>scavenger receptor class B, member 2b /scaveng...</td>\n",
       "      <td>8</td>\n",
       "    </tr>\n",
       "    <tr>\n",
       "      <th>10105</th>\n",
       "      <td>OG0010243</td>\n",
       "      <td>mitochondrial ribosomal protein S7 /mitochondr...</td>\n",
       "      <td>8</td>\n",
       "    </tr>\n",
       "    <tr>\n",
       "      <th>1273</th>\n",
       "      <td>OG0001354</td>\n",
       "      <td>optineurin /optineurin /optineurin /optineurin...</td>\n",
       "      <td>8</td>\n",
       "    </tr>\n",
       "    <tr>\n",
       "      <th>10607</th>\n",
       "      <td>OG0010746</td>\n",
       "      <td>cell division cycle 14Ab /cell division cycle ...</td>\n",
       "      <td>7</td>\n",
       "    </tr>\n",
       "    <tr>\n",
       "      <th>...</th>\n",
       "      <td>...</td>\n",
       "      <td>...</td>\n",
       "      <td>...</td>\n",
       "    </tr>\n",
       "    <tr>\n",
       "      <th>12735</th>\n",
       "      <td>OG0012908</td>\n",
       "      <td>si:dkeyp-20g2.1 /si:dkeyp-20g2.1 /coiled-coil ...</td>\n",
       "      <td>8</td>\n",
       "    </tr>\n",
       "    <tr>\n",
       "      <th>894</th>\n",
       "      <td>OG0000966</td>\n",
       "      <td>retinoid isomerohydrolase RPE65 a /retinoid is...</td>\n",
       "      <td>8</td>\n",
       "    </tr>\n",
       "    <tr>\n",
       "      <th>9332</th>\n",
       "      <td>OG0009467</td>\n",
       "      <td>MORN repeat containing 4 /MORN repeat containi...</td>\n",
       "      <td>7</td>\n",
       "    </tr>\n",
       "    <tr>\n",
       "      <th>14007</th>\n",
       "      <td>OG0014200</td>\n",
       "      <td>si:ch1073-143l10.2 /ATG16 autophagy related 16...</td>\n",
       "      <td>8</td>\n",
       "    </tr>\n",
       "    <tr>\n",
       "      <th>7678</th>\n",
       "      <td>OG0007804</td>\n",
       "      <td>VPS37A subunit of ESCRT-I /VPS37A subunit of E...</td>\n",
       "      <td>8</td>\n",
       "    </tr>\n",
       "  </tbody>\n",
       "</table>\n",
       "<p>70 rows × 3 columns</p>\n",
       "</div>"
      ],
      "text/plain": [
       "      Orthogroup                                        description  \\\n",
       "2444   OG0002545  interleukin 6 signal transducer /interleukin 6...   \n",
       "12019  OG0012178  scavenger receptor class B, member 2b /scaveng...   \n",
       "10105  OG0010243  mitochondrial ribosomal protein S7 /mitochondr...   \n",
       "1273   OG0001354  optineurin /optineurin /optineurin /optineurin...   \n",
       "10607  OG0010746  cell division cycle 14Ab /cell division cycle ...   \n",
       "...          ...                                                ...   \n",
       "12735  OG0012908  si:dkeyp-20g2.1 /si:dkeyp-20g2.1 /coiled-coil ...   \n",
       "894    OG0000966  retinoid isomerohydrolase RPE65 a /retinoid is...   \n",
       "9332   OG0009467  MORN repeat containing 4 /MORN repeat containi...   \n",
       "14007  OG0014200  si:ch1073-143l10.2 /ATG16 autophagy related 16...   \n",
       "7678   OG0007804  VPS37A subunit of ESCRT-I /VPS37A subunit of E...   \n",
       "\n",
       "       %conserved  \n",
       "2444            8  \n",
       "12019           8  \n",
       "10105           8  \n",
       "1273            8  \n",
       "10607           7  \n",
       "...           ...  \n",
       "12735           8  \n",
       "894             8  \n",
       "9332            7  \n",
       "14007           8  \n",
       "7678            8  \n",
       "\n",
       "[70 rows x 3 columns]"
      ]
     },
     "metadata": {},
     "output_type": "display_data"
    }
   ],
   "source": [
    "#THis cell gets the non heat shock orthhogroups\n",
    "#filter out the rows that have the word heat in the description column\n",
    "not__= final_ortho_df[~final_ortho_df['description'].str.contains('heat|hsp|HSP|shps|HEAT|shock|factor|domain|transcription', case=False)]\n",
    "\n",
    "def count_non_na_columns(df):\n",
    "    df['%conserved'] = df.iloc[:, 1:85].count(axis=1)\n",
    "    return df\n",
    "not_hsps = count_non_na_columns(not__)\n",
    "not_hsps = not_hsps[['Orthogroup', 'description', '%conserved']]\n",
    "#Ranomly sample 70 rows from the not_hsps dataframe\n",
    "not_hsps_sample = not_hsps.sample(n=70, random_state=1)\n",
    "not_hsps_sample.to_csv(f'{path}not_hsps.csv', sep=',', index=False)\n",
    "display(not_hsps_sample)"
   ]
  }
 ],
 "metadata": {
  "kernelspec": {
   "display_name": "usr",
   "language": "python",
   "name": "python3"
  },
  "language_info": {
   "codemirror_mode": {
    "name": "ipython",
    "version": 3
   },
   "file_extension": ".py",
   "mimetype": "text/x-python",
   "name": "python",
   "nbconvert_exporter": "python",
   "pygments_lexer": "ipython3",
   "version": "3.10.10"
  },
  "orig_nbformat": 4,
  "vscode": {
   "interpreter": {
    "hash": "767d51c1340bd893661ea55ea3124f6de3c7a262a8b4abca0554b478b1e2ff90"
   }
  }
 },
 "nbformat": 4,
 "nbformat_minor": 2
}
